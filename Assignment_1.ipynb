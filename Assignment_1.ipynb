{
  "nbformat": 4,
  "nbformat_minor": 0,
  "metadata": {
    "colab": {
      "provenance": [],
      "include_colab_link": true
    },
    "kernelspec": {
      "name": "python3",
      "display_name": "Python 3"
    },
    "language_info": {
      "name": "python"
    }
  },
  "cells": [
    {
      "cell_type": "markdown",
      "metadata": {
        "id": "view-in-github",
        "colab_type": "text"
      },
      "source": [
        "<a href=\"https://colab.research.google.com/github/ffang0224/data-feature/blob/main/Assignment_1.ipynb\" target=\"_parent\"><img src=\"https://colab.research.google.com/assets/colab-badge.svg\" alt=\"Open In Colab\"/></a>"
      ]
    },
    {
      "cell_type": "markdown",
      "source": [
        "Description:\n",
        "\n",
        "**Functionality** - This feature is intended to provide recipes based on a fruit of interest. The fruit is inputted and the feature outputs recipes with that fruit.\n",
        "\n",
        "**Value Added** - This feature will help people find recipes with a specific fruit of interest. For example, if someone wanted to use up the mangoes in their fridge, this feature could show them different recipes that require mango."
      ],
      "metadata": {
        "id": "yjOFP44JOpTo"
      }
    },
    {
      "cell_type": "code",
      "source": [
        "pip install pandas #install the pandas library if it has never been run on colab before"
      ],
      "metadata": {
        "id": "4A4-wIMYa5ZP"
      },
      "execution_count": null,
      "outputs": []
    },
    {
      "cell_type": "code",
      "source": [
        "import json #allows your code to interpret the json language used commonly in APIs\n",
        "import requests #allows your code to make http requests\n",
        "import pandas as pd #a python library that can perform various requests. We used it to create a recipes df.\n",
        "import random #allows you to request a random output"
      ],
      "metadata": {
        "id": "-jwWpkPKf4qp"
      },
      "execution_count": null,
      "outputs": []
    },
    {
      "cell_type": "code",
      "source": [
        "#processing the recipe data\n",
        "def get_recipe(url, params=None, headers=None): #defining a function that returns a json response if the API call is successful\n",
        "    #url -> url of API to access\n",
        "    #params -> parameters of our request\n",
        "    #headers -> headers for access\n",
        "    try:\n",
        "        response = requests.get(url, params=params, headers=headers) #use the requests library to pull data from the API (GET request) and assign it to the variable response\n",
        "        #check if the request was successful\n",
        "        response.raise_for_status() #raises an HTTP error if the response status code is a failure (ex. 404 Not Found or 500 Internal Server Error)\n",
        "        data = response.json() #assigns the variable data to the response and converts it from json with .json()\n",
        "\n",
        "        recipes = [] #creates an empty list called recipes\n",
        "        if not data['hits']: #if not checks if there are no hits in the data\n",
        "          print(\"No recipes found\") #a text output if there are no hits\n",
        "          return 0 #a numerical output if there are no hits\n",
        "        for hit in data['hits']: #a for loop that fills the recipes list with hits that extract a url, label, ingredients, and image from the data\n",
        "          recipe = hit['recipe'] #a variable for the recipes extracted from the data\n",
        "          #list of fields to extract\n",
        "          recipes.append({'url': recipe['url'],'label': recipe['label'],'ingredients':recipe['ingredients'],'image': recipe['image']}) #assigns values to the list recipes and clarifies the different items resulting from each hit that will be relabeled in the list\n",
        "\n",
        "        df = pd.DataFrame(recipes) #creates a dataframe from the list recipes\n",
        "        display(df) #displays the dataframe\n",
        "        return data #returns the data if the API call is successful\n",
        "    except requests.exceptions.RequestException as e: #if an exception occurs while processing the data\n",
        "        print(f\"An error occurred: {e}\") #a text response that prints the error type\n",
        "        return None #an additional response to indicate an error"
      ],
      "metadata": {
        "id": "TeyvShqgNwtw"
      },
      "execution_count": null,
      "outputs": []
    },
    {
      "cell_type": "code",
      "source": [
        "#processing the fruit data\n",
        "def get_fruit(url, params=None, headers=None): #Defining a function that returns a json response if the API call is successful\n",
        "    try:\n",
        "        response = requests.get(url, params=params, headers=headers) #use the requests library to pull data from the API and assign it to the variable response\n",
        "        #check if the request was successful\n",
        "        response.raise_for_status() #raises an HTTP error if the response status code is a failure (ex. 404 Not Found or 500 Internal Server Error)\n",
        "\n",
        "        i = random.randint(0,50) #a variable assigned to a random integer from 0 to 50 (it can be modified in order to cover more fruits)\n",
        "        result = response.json()[i] #assigns a variable to the converted json response from the api and selects a fruit from the response with the random integer\n",
        "        print(f\"The fruit selected was: {result['name']}\") #a text output that incorporates the fruit output\n",
        "        return result['name'] #returns the fruit name\n",
        "    except requests.exceptions.RequestException as e: #if an exception occurs while processing the data\n",
        "        print(f\"An error occurred: {e}\") #a text response that prints the error\n",
        "        return None #an additional response to indicate an error"
      ],
      "metadata": {
        "id": "zNqfmIRrnU1k"
      },
      "execution_count": null,
      "outputs": []
    },
    {
      "cell_type": "code",
      "source": [
        "#creating the feature\n",
        "recipe_url = \"https://api.edamam.com/api/recipes/v2\" #assigning a variable to the recipe api\n",
        "fruit_url = \"https://www.fruityvice.com/api/fruit/all\" #assigning a variable to the fruit api\n",
        "fruit = get_fruit(fruit_url) #assigning a variable to the get_fruit function and inserts the fruit_url as the input\n",
        "params = {\"type\": \"public\", \"app_id\": \"757c083c\",\"app_key\":\"2d327a070018d370d2ff3eb8c5732da0\",\"q\":fruit} #a dictionary of query parameters for the recipe API. It clarifies that you want to use the public recipe API, provides the app_id and app_key to access the API, then it assigns the query with the random fruit\n",
        "\n",
        "result =get_recipe(recipe_url, params=params) #assigning a variable to the make_api_call function for a recipe with the api url as an input and the params dictionary\n",
        "if result:\n",
        "    print(\"API call successful!\") #a text output if the API call is successful\n",
        "else:\n",
        "    print(\"Exiting program.\") #a text output if the API call is not successful\n",
        "    exit() #exits the program if the API call is not successful"
      ],
      "metadata": {
        "id": "T6mF3nPHX85j"
      },
      "execution_count": null,
      "outputs": []
    }
  ]
}